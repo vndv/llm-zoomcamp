{
 "cells": [
  {
   "cell_type": "code",
   "execution_count": 1,
   "id": "385d3809-b3d4-4d25-84a4-d5e55e2cc0df",
   "metadata": {},
   "outputs": [],
   "source": [
    "from openai import OpenAI"
   ]
  },
  {
   "cell_type": "code",
   "execution_count": 4,
   "id": "995b1598-1620-4196-9c73-bbebe74ff7d1",
   "metadata": {},
   "outputs": [],
   "source": [
    "client = OpenAI()"
   ]
  },
  {
   "cell_type": "code",
   "execution_count": 5,
   "id": "34a998a3-4b75-4e57-add2-75dd3c7c4bb6",
   "metadata": {},
   "outputs": [],
   "source": [
    "response = client.chat.completions.create(\n",
    "    model='gpt-4o',\n",
    "    messages=[{\"role\":\"user\", \"content\":\"is it to late to join the course?\"}]\n",
    ")"
   ]
  },
  {
   "cell_type": "code",
   "execution_count": 10,
   "id": "6aeefe18-e1bf-4cf7-b654-b34915f8fb96",
   "metadata": {},
   "outputs": [
    {
     "data": {
      "text/plain": [
       "\"To provide an accurate answer, I'd need more information about the specific course you're referring to, such as the start date, enrollment deadlines, and any flexibility the course may offer for latecomers. Generally, if the course has already started or if the enrollment period has closed, you may face challenges joining. However, some courses allow late registration or have rolling admissions. It's best to contact the course provider directly to inquire about your options.\""
      ]
     },
     "execution_count": 10,
     "metadata": {},
     "output_type": "execute_result"
    }
   ],
   "source": [
    "response.choices[0].message.content"
   ]
  },
  {
   "cell_type": "code",
   "execution_count": null,
   "id": "8e4f25e0-55fb-463a-be15-0c5215787f43",
   "metadata": {},
   "outputs": [],
   "source": []
  }
 ],
 "metadata": {
  "kernelspec": {
   "display_name": "Python 3 (ipykernel)",
   "language": "python",
   "name": "python3"
  },
  "language_info": {
   "codemirror_mode": {
    "name": "ipython",
    "version": 3
   },
   "file_extension": ".py",
   "mimetype": "text/x-python",
   "name": "python",
   "nbconvert_exporter": "python",
   "pygments_lexer": "ipython3",
   "version": "3.12.1"
  }
 },
 "nbformat": 4,
 "nbformat_minor": 5
}
